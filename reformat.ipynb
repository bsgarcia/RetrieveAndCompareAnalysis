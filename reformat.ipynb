{
 "cells": [
  {
   "cell_type": "code",
   "execution_count": 1,
   "metadata": {},
   "outputs": [],
   "source": [
    "import pandas as pd\n",
    "import numpy as np\n",
    "\n",
    "# TODO: treat catch trials\n",
    "#  convert this matlab code to python list format\n",
    "filenames = ['interleaved_incomplete',\n",
    "             'block_incomplete',\n",
    "             'block_complete',\n",
    "             'block_complete_simple',\n",
    "             'block_complete_mixed',\n",
    "             'block_complete_mixed_2s',\n",
    "             'block_complete_mixed_2s_amb_heuristic',\n",
    "             'block_complete_mixed_2s_amb',\n",
    "             'incentivize']\n",
    "\n",
    "# for f in filenames:\n",
    "# print(f)\n",
    "# df1 = pd.read_csv('data/behavior/csv/' + f + '.csv')\n",
    "\n",
    "# ----------------------------------------------\n",
    "#  This code is used to add prolific id to the data\n",
    "# if f == 'block_complete_mixed':\n",
    "#     df2 = pd.read_csv('data/behavior/with_prolific_id/' + f + '.csv')\n",
    "#     df2.columns=[\"F\"+str(i) for i in range(1, df2.shape[1]+1)]\n",
    "#     break\n",
    "#  rename columns\n",
    "# for sub_id in df1['sub'].unique():\n",
    "#     if np.isnan(sub_id):\n",
    "#         continue\n",
    "\n",
    "\n",
    "#     df1.loc[df1['sub'] == sub_id, 'prolific_id'] = df2['F3'][df2['F2'] == sub_id].values[0]\n",
    "# ----------------------------------------------\n",
    "\n",
    "for f in filenames:\n",
    "    df = pd.read_csv(f'data/behavior/csv/{f}.csv')\n",
    "\n",
    "    df.drop(['Unnamed: 0',\n",
    "             'prolific_id',\n",
    "             'cont1', 'cont2',\n",
    "             'dbtime', '10',\n",
    "             '26', '15', '16',\n",
    "             'dist', 'plot'], axis=1, inplace=True)\n",
    "\n",
    "    df.rename(columns={'17': 'chose_right', 'elic': 'phase',\n",
    "              'sub': 'sub_id', '25': 'reversed'}, inplace=True)\n",
    "\n",
    "    count = 0\n",
    "    for sub in df.sub_id.unique():\n",
    "\n",
    "        if np.isnan(sub):\n",
    "            # drop nan sub\n",
    "            df.drop(df[df.sub_id == sub].index, inplace=True)\n",
    "\n",
    "        LE = (df.phase == -1) & (df.cond != -1) & (df.sub_id == sub)\n",
    "        # count += sum(LE) == 120\n",
    "        df.loc[LE, 'phase'] = 'LE'\n",
    "        df.loc[LE, 'op1'] = 'E'\n",
    "        df.loc[LE, 'op2'] = 'E'\n",
    "\n",
    "        ES = (df.phase == 0) & (df.op2.isin(\n",
    "            [0, -1])) & (df.op1.isin([1, -1])) & (df.sub_id == sub)\n",
    "        # assert len(LE[ES]) == 0\n",
    "        assert all(LE[ES] == False)\n",
    "        # print(sum(ES))\n",
    "        df.loc[ES, 'phase'] = 'ES'\n",
    "        df.loc[ES, 'op1'] = 'E'\n",
    "        df.loc[ES, 'op2'] = 'S'\n",
    "\n",
    "        SP = (df.phase == 2) & (df.sub_id == sub)\n",
    "        df.loc[SP, 'phase'] = 'SP'\n",
    "\n",
    "        if f in ('block_complete_mixed',\n",
    "                 'block_complete_mixed_2s',\n",
    "                 'block_complete_mixed_2s_amb_heuristic',\n",
    "                 'block_complete_mixed_2s_amb',\n",
    "                 'incentivize'):\n",
    "            EE = (df.phase == 0) & (df.op2 == 1) & (df.sub_id == sub)\n",
    "            assert all((EE[ES] == False))\n",
    "            df.loc[EE, 'phase'] = 'EE'\n",
    "            df.loc[EE, 'op1'] = 'E'\n",
    "            df.loc[EE, 'op2'] = 'E'\n",
    "\n",
    "        if 'amb' in f:\n",
    "            EA = (df.phase == 0) & (df.op2 == 2) & (\n",
    "                df.op1 == 1) & (df.sub_id == sub)\n",
    "            df.loc[EA, 'phase'] = 'EA'\n",
    "\n",
    "            df.loc[EA, 'op1'] = 'E'\n",
    "            df.loc[EA, 'op2'] = 'A'\n",
    "\n",
    "            SA = (df.phase == 0) & (df.op2 == 2) & (\n",
    "                df.op1 == 0) & (df.sub_id == sub)\n",
    "\n",
    "            df.loc[SA, 'phase'] = 'SA'\n",
    "            df.loc[SA, 'op1'] = 'S'\n",
    "            df.loc[SA, 'op2'] = 'A'\n",
    "\n",
    "    df.to_csv(f'data/behavior/reformat/{f}.csv')\n",
    "\n",
    "    # TODO: treat catch trials\n",
    "    # TODO: clean conditions\n",
    "    # TODO: clean left_right\n"
   ]
  },
  {
   "cell_type": "code",
   "execution_count": 36,
   "metadata": {},
   "outputs": [
    {
     "data": {
      "text/plain": [
       "<Axes: xlabel='cond', ylabel='corr'>"
      ]
     },
     "execution_count": 36,
     "metadata": {},
     "output_type": "execute_result"
    },
    {
     "data": {
      "image/png": "[encoded data removed]",
      "text/plain": [
       "<Figure size 640x480 with 1 Axes>"
      ]
     },
     "metadata": {},
     "output_type": "display_data"
    }
   ],
   "source": [
    "df = pd.read_csv('./data/behavior/reformat/block_complete.csv')\n",
    "where = df.groupby('sub_id').phase.count().isin([288, 258])\n",
    "ids = where.index[where.values]\n",
    "df = df[df.sub_id.isin(ids)]\n",
    "df = df[df.sess == 0]\n",
    "df2 = df.groupby(['sub_id', 'phase', 'cond'], as_index=False)['corr'].mean()\n",
    "\n",
    "df2 = df2[df2.phase=='LE']\n",
    "import seaborn as sns\n",
    "\n",
    "sns.barplot(data=df2, x='cond', y='corr')"
   ]
  }
 ],
 "metadata": {
  "kernelspec": {
   "display_name": "venv",
   "language": "python",
   "name": "python3"
  },
  "language_info": {
   "codemirror_mode": {
    "name": "ipython",
    "version": 3
   },
   "file_extension": ".py",
   "mimetype": "text/x-python",
   "name": "python",
   "nbconvert_exporter": "python",
   "pygments_lexer": "ipython3",
   "version": "3.10.10"
  },
  "orig_nbformat": 4
 },
 "nbformat": 4,
 "nbformat_minor": 2
}
